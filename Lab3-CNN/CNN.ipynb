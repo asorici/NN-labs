{
 "cells": [
  {
   "cell_type": "markdown",
   "metadata": {
    "id": "Xi1dtiTtK1Ov",
    "colab_type": "text"
   },
   "source": [
    "Lab 3 : Convolutional Neural Networks\n",
    "=====================================\n",
    "\n",
    "### Supervised classification, overfitting and inductive biases in convnets\n",
    "### Credit to EEML 2019 ConvNet and Computer Vision tutorial by Viorica Patraucean \n",
    "### Credit to PyTorch model-zoo for ResNet-50 implementation\n",
    "\n",
    "* Exercise 1: Write PyTorch data Transformers to augment/alter training and testing data with random flips, random crops and random pixel permutations\n",
    "* Exercise 2: Implement and train a Resnet-50 classifier using supervised learning; enable/disable batch norm updates to see the effect.\n",
    "* Exercise 3: Inductive biases in convnets; comparison with MLP.\n",
    "* Exercise 4: Overfitting and regularization using weight decay.\n",
    "\n",
    "**Questions**: \n",
    "1. What happens with resnet's performance when batch norm statistics are not updated? How about MLP? Why is one affected less than the other?\n",
    "*A: If the batch statistics are not updated, resnet's performance is similar to a random classifier. The MLP performs considerably better than chance, due to its shallow depth.*\n",
    "2. What is resnet's train loss on permuted cifar? How about the test accuracy? How is the MLP affected by the permutation?\n",
    "*A: Resnet fits perfectly the training set (100% train accuracy), but generalises very poorly (around 45%). It manages to memorise the training set due to its high capacity and small dataset, but cannot generalise. Note that this would not happen on Imagenet, i.e. resnet would not be able to memorize the dataset. The performance of a shallow 2-layer MLP is much better than resnet on permuted cifar (65%). Due to fully connectedness, the MLP is not affected by the permutation. The same would happen for a Transformer style model. This shows the strong effect that the inductive biases (here mainly locality of the data) have on the generalisation power of convnets.*  \n",
    "3. What other types of regularization could you use to avoid overfitting?\n",
    "*A: dropout*"
   ]
  },
  {
   "cell_type": "code",
   "execution_count": null,
   "metadata": {
    "id": "9Ho_PioVRL_o",
    "colab_type": "code",
    "outputId": "ed3a80c3-0074-4447-fe26-85b8891d2092",
    "executionInfo": {
     "status": "ok",
     "timestamp": 1.563563319778E12,
     "user_tz": -60.0,
     "elapsed": 727.0,
     "user": {
      "displayName": "Viorica Patraucean",
      "photoUrl": "",
      "userId": "13139210118252352812"
     }
    },
    "colab": {
     "base_uri": "https://localhost:8080/",
     "height": 34.0
    },
    "collapsed": true
   },
   "outputs": [
    {
     "ename": "ModuleNotFoundError",
     "evalue": "No module named 'tensorflow'",
     "traceback": [
      "\u001b[0;31m---------------------------------------------------------------------------\u001b[0m",
      "\u001b[0;31mModuleNotFoundError\u001b[0m                       Traceback (most recent call last)",
      "\u001b[0;32m<ipython-input-2-0b88fef7d546>\u001b[0m in \u001b[0;36m<module>\u001b[0;34m\u001b[0m\n\u001b[1;32m      6\u001b[0m \u001b[0;32mimport\u001b[0m \u001b[0mtime\u001b[0m\u001b[0;34m\u001b[0m\u001b[0;34m\u001b[0m\u001b[0m\n\u001b[1;32m      7\u001b[0m \u001b[0;34m\u001b[0m\u001b[0m\n\u001b[0;32m----> 8\u001b[0;31m \u001b[0;32mimport\u001b[0m \u001b[0mtensorflow\u001b[0m \u001b[0;32mas\u001b[0m \u001b[0mtf\u001b[0m\u001b[0;34m\u001b[0m\u001b[0;34m\u001b[0m\u001b[0m\n\u001b[0m\u001b[1;32m      9\u001b[0m \u001b[0;34m\u001b[0m\u001b[0m\n\u001b[1;32m     10\u001b[0m \u001b[0;31m# Don't forget to select GPU runtime environment in Runtime -> Change runtime type\u001b[0m\u001b[0;34m\u001b[0m\u001b[0;34m\u001b[0m\u001b[0;34m\u001b[0m\u001b[0m\n",
      "\u001b[0;31mModuleNotFoundError\u001b[0m: No module named 'tensorflow'"
     ],
     "output_type": "error"
    }
   ],
   "source": [
    "from __future__ import absolute_import\n",
    "from __future__ import division\n",
    "from __future__ import print_function\n",
    "\n",
    "import time\n",
    "import torch\n",
    "import torch.nn as nn\n",
    "\n",
    "device = torch.device(\"cuda\" if torch.cuda.is_available() else \"cpu\")\n",
    "\n",
    "print(f'Running code @ {device}')\n",
    "\n",
    "import numpy as np\n",
    "\n",
    "# Plotting library.\n",
    "from matplotlib import pyplot as plt\n",
    "import pylab as pl\n",
    "from IPython import display\n",
    "\n",
    "import collections\n",
    "import enum\n",
    "import warnings\n",
    "warnings.filterwarnings('ignore')"
   ]
  },
  {
   "cell_type": "markdown",
   "metadata": {},
   "source": [
    "## Download and prepare the data\n",
    "\n",
    "* Cifar-10 equivalent of MNIST for natural RGB images\n",
    "\n",
    "* 60000 32x32 colour images in 10 classes: airplane, automobile, bird, cat, deer, dog, frog, horse, ship, truck\n",
    "\n",
    "* train: 50000; test: 10000\n",
    "\n",
    "\n",
    "**TODO Task 1: Implement data augmentation**\n",
    "\n",
    "In Pytorch one can perform data transformations when loading a dataset using predefined (from `torchvision.transforms`) or custom build _transform_ classes. \n",
    "In this exercise you are to augment the _training time_ preprocessing with two data augmentation techniques: random image flips and random crops, which are found in the `torchvision.transforms` package."
   ]
  },
  {
   "cell_type": "code",
   "execution_count": 2,
   "metadata": {
    "id": "LEEkhc5KRa8t",
    "colab_type": "code",
    "outputId": "8c6066ae-a40e-40c6-c0bd-9af5c8f19b1e",
    "executionInfo": {
     "status": "ok",
     "timestamp": 1.563563320417E12,
     "user_tz": -60.0,
     "elapsed": 1334.0,
     "user": {
      "displayName": "Viorica Patraucean",
      "photoUrl": "",
      "userId": "13139210118252352812"
     }
    },
    "colab": {
     "base_uri": "https://localhost:8080/",
     "height": 153.0
    },
    "collapsed": true
   },
   "outputs": [
    {
     "name": "stdout",
     "output_type": "stream",
     "text": [
      "Files already downloaded and verified\n"
     ]
    },
    {
     "name": "stdout",
     "output_type": "stream",
     "text": [
      "Files already downloaded and verified\n"
     ]
    },
    {
     "name": "stdout",
     "output_type": "stream",
     "text": [
      "Size of training images (50000, 32, 32, 3)\nSize of training labels 50000\nSize of test images (10000, 32, 32, 3)\nSize of test labels 10000\n"
     ]
    }
   ],
   "source": [
    "# Prepare data \n",
    "import torchvision\n",
    "import torchvision.transforms as transforms\n",
    "\n",
    "NUM_WORKERS = 2\n",
    "\n",
    "\n",
    "TRAIN_DATASET_SIZE = 50000\n",
    "TEST_DATASET_SIZE = 10000\n",
    "\n",
    "CIFAR10_IMG_WIDTH = 32\n",
    "CIFAR10_IMG_HEIGHT = 32\n",
    "\n",
    "DATA_MEAN = (0.5, 0.5, 0.5)\t\t# define the mean for the scaling transform - PIL images already come given in \n",
    "DATA_STD = (0.5, 0.5, 0.5)\t\t# define the standard deviation for the scaling transform\n",
    "train_transform = transforms.Compose(\n",
    "    [\n",
    "        transforms.RandomHorizontalFlip(),              # TODO: apply random horizontal flip\n",
    "        transforms.RandomCrop(                          # TODO: apply random crop, after padding image with 4 values on each side, using `reflect` mode\n",
    "            size=(CIFAR10_IMG_WIDTH, CIFAR10_IMG_HEIGHT), \n",
    "            padding=(4, 4), \n",
    "            padding_mode=\"reflect\"),\n",
    "        transforms.ToTensor(),\n",
    "        transforms.Normalize(DATA_MEAN, DATA_STD)       # normalize the image tensor to [-1, 1] on each channel: img_norm = (img - data_mean) / data_std \n",
    "    ] \n",
    ")\n",
    "\n",
    "\n",
    "test_transform = transforms.Compose(\n",
    "    [\n",
    "        transforms.ToTensor(),                          # on test set we only need to apply the same normalization\n",
    "        transforms.Normalize(DATA_MEAN, DATA_STD) \n",
    "    ] \n",
    ")\n",
    "\n",
    "\n",
    "\n",
    "train_images = torchvision.datasets.CIFAR10(root='./data', train=True, download=True, \n",
    "                                            transform=train_transform)\n",
    "\n",
    "test_images = torchvision.datasets.CIFAR10(root='./data', train=False, download=True, \n",
    "                                           transform=test_transform)\n",
    "\n",
    "# Check sizes of tensors\n",
    "print(f'Size of training images {train_images.data.shape}')\n",
    "print(f'Size of training labels {len(train_images.targets)}')\n",
    "print(f'Size of test images {test_images.data.shape}')\n",
    "print(f'Size of test labels {len(test_images.targets)}')\n"
   ]
  },
  {
   "cell_type": "markdown",
   "metadata": {
    "id": "4vMPjp0UU4Mx",
    "colab_type": "text"
   },
   "source": [
    "## Display the images\n",
    "The gallery function below shows sample images from the data, together with their labels."
   ]
  },
  {
   "cell_type": "code",
   "execution_count": 0,
   "metadata": {
    "id": "Xy0BWFwFUQ0J",
    "colab_type": "code",
    "colab": {}
   },
   "outputs": [],
   "source": [
    "MAX_IMAGES = 10\n",
    "\n",
    "\n",
    "def gallery(images, label, title='Input images'):\n",
    "    class_dict = ['plane', 'car', 'bird', 'cat','deer', 'dog', 'frog', 'horse', 'ship', 'truck']\n",
    "    num_frames, h, w, num_channels = images.shape\n",
    "    num_frames = min(num_frames, MAX_IMAGES)\n",
    "    ff, axes = plt.subplots(1, num_frames, figsize=(num_frames, 1), subplot_kw={'xticks': [], \n",
    "                                                                                'yticks': []})\n",
    "    for i in range(0, num_frames):\n",
    "        if num_channels == 3:\n",
    "            axes[i].imshow(np.squeeze(images[i]))\n",
    "        else:\n",
    "            axes[i].imshow(np.squeeze(images[i]), cmap='gray')\n",
    "        axes[i].set_title(class_dict[label[i][0]])\n",
    "        plt.setp(axes[i].get_xticklabels(), visible=False)\n",
    "        plt.setp(axes[i].get_yticklabels(), visible=False)\n",
    "    ff.subplots_adjust(wspace=0.1)\n",
    "    plt.show()\n"
   ]
  },
  {
   "cell_type": "code",
   "execution_count": 403,
   "metadata": {
    "id": "7kGaRa23RfjT",
    "colab_type": "code",
    "outputId": "2da3c5b0-586a-4a98-c6f9-cc4dfceb6e6b",
    "executionInfo": {
     "status": "ok",
     "timestamp": 1.563563320942E12,
     "user_tz": -60.0,
     "elapsed": 1834.0,
     "user": {
      "displayName": "Viorica Patraucean",
      "photoUrl": "",
      "userId": "13139210118252352812"
     }
    },
    "colab": {
     "base_uri": "https://localhost:8080/",
     "height": 102.0
    }
   },
   "outputs": [
    {
     "data": {
      "image/png": "[encoded data removed]",
      "text/plain": [
       "<Figure size 720x72 with 10 Axes>"
      ]
     },
     "metadata": {
      "tags": []
     },
     "output_type": "display_data"
    }
   ],
   "source": [
    "gallery(train_images, train_labels)\n"
   ]
  },
  {
   "cell_type": "markdown",
   "metadata": {
    "id": "9pgKO2uEU_tn",
    "colab_type": "text"
   },
   "source": [
    "## Prepare the data for training and testing\n",
    "* for training, we use stochastic optimizers (e.g. SGD, Adam), so we need to sample at random mini-batches from the training dataset\n",
    "* for testing, we iterate sequentially through the test set"
   ]
  },
  {
   "cell_type": "code",
   "execution_count": 6,
   "metadata": {
    "id": "a7DbXWyoRjO6",
    "colab_type": "code",
    "outputId": "c41ff867-0428-415b-dbc0-e13c7d7abe54",
    "executionInfo": {
     "status": "ok",
     "timestamp": 1.563563323015E12,
     "user_tz": -60.0,
     "elapsed": 3885.0,
     "user": {
      "displayName": "Viorica Patraucean",
      "photoUrl": "",
      "userId": "13139210118252352812"
     }
    },
    "colab": {
     "base_uri": "https://localhost:8080/",
     "height": 85.0
    },
    "collapsed": true
   },
   "outputs": [
    {
     "ename": "NameError",
     "evalue": "name 'train_images' is not defined",
     "traceback": [
      "\u001b[0;31m---------------------------------------------------------------------------\u001b[0m",
      "\u001b[0;31mNameError\u001b[0m                                 Traceback (most recent call last)",
      "\u001b[0;32m<ipython-input-6-7735555c30ff>\u001b[0m in \u001b[0;36m<module>\u001b[0;34m\u001b[0m\n\u001b[1;32m      6\u001b[0m \u001b[0;34m\u001b[0m\u001b[0m\n\u001b[1;32m      7\u001b[0m \u001b[0;34m\u001b[0m\u001b[0m\n\u001b[0;32m----> 8\u001b[0;31m train_loader = torch.utils.data.DataLoader(train_images, batch_size=BATCH_SIZE_TRAIN, \n\u001b[0m\u001b[1;32m      9\u001b[0m                                            \u001b[0mshuffle\u001b[0m\u001b[0;34m=\u001b[0m\u001b[0mSHUFFLE_DATA\u001b[0m\u001b[0;34m,\u001b[0m\u001b[0;34m\u001b[0m\u001b[0;34m\u001b[0m\u001b[0m\n\u001b[1;32m     10\u001b[0m                                            num_workers=NO_WORKERS)\n",
      "\u001b[0;31mNameError\u001b[0m: name 'train_images' is not defined"
     ],
     "output_type": "error"
    }
   ],
   "source": [
    "# define dimension of the batches to sample from the datasets\n",
    "BATCH_SIZE_TRAIN = 100  #@param\n",
    "BATCH_SIZE_TEST = 100  #@param\n",
    "NO_WORKERS = 2  #@param\n",
    "SHUFFLE_DATA = True\n",
    "\n",
    "# create Dataset iterator object using the data previously downloaded\n",
    "# we shuffle the data and sample repeatedly batches for training\n",
    "train_loader = torch.utils.data.DataLoader(train_images, batch_size=BATCH_SIZE_TRAIN, \n",
    "                                           shuffle=SHUFFLE_DATA, \n",
    "                                           num_workers=NO_WORKERS)\n",
    "\n",
    "# get a training batch of images and labels\n",
    "(batch_train_images, batch_train_labels) = next(iter(train_loader))\n",
    "\n",
    "# check that the shape of the training batches is the expected one\n",
    "print(f'Shape of training images: {batch_train_images.size()}')\n",
    "print(f'Shape of training labels: {batch_train_labels.size()}')\n"
   ]
  },
  {
   "cell_type": "code",
   "execution_count": 405,
   "metadata": {
    "id": "gpHYjHEiRmvs",
    "colab_type": "code",
    "outputId": "39b420e6-e76b-4383-f599-fddf7da0e985",
    "executionInfo": {
     "status": "ok",
     "timestamp": 1.563563323411E12,
     "user_tz": -60.0,
     "elapsed": 4265.0,
     "user": {
      "displayName": "Viorica Patraucean",
      "photoUrl": "",
      "userId": "13139210118252352812"
     }
    },
    "colab": {
     "base_uri": "https://localhost:8080/",
     "height": 85.0
    }
   },
   "outputs": [
    {
     "name": "stdout",
     "output_type": "stream",
     "text": [
      "Shape of test images\n",
      "Tensor(\"IteratorGetNext_1:0\", shape=(?, 32, 32, 3), dtype=uint8)\n",
      "Shape of test labels\n",
      "Tensor(\"IteratorGetNext_1:1\", shape=(?, 1), dtype=int64)\n"
     ]
    }
   ],
   "source": [
    "# we do the same for test dataset\n",
    "test_loader = torch.utils.data.DataLoader(test_images, batch_size=BATCH_SIZE_TRAIN, \n",
    "                                          shuffle=SHUFFLE_DATA, \n",
    "                                          num_workers=NO_WORKERS)\n",
    "(batch_test_images, batch_test_labels) = next(iter(test_loader))\n",
    "print(f'Shape of test images: {batch_test_images.size()}')\n",
    "print(f'Shape of test labels: {batch_test_labels.size()}')\n"
   ]
  },
  {
   "cell_type": "markdown",
   "metadata": {
    "id": "-Q9xIZOJEiiU",
    "colab_type": "text"
   },
   "source": [
    "## General setting; use the options below to switch between exercises."
   ]
  },
  {
   "cell_type": "code",
   "execution_count": 0,
   "metadata": {
    "id": "6b8dDvmpEgwM",
    "colab_type": "code",
    "colab": {}
   },
   "outputs": [],
   "source": [
    "model = \"resnet_v2\"  # @param['resnet_v2','mlp']\n",
    "flag_batch_norm = 'OFF'  # @param['ON', 'OFF']\n",
    "flag_permute = False  # @param['True', 'False'] {type:\"raw\"}\n",
    "flag_regularize = False  # @param['True', 'False'] {type:\"raw\"}\n",
    "flag_selfsup = True  # @param['True', 'False'] {type:\"raw\"}\n"
   ]
  },
  {
   "cell_type": "markdown",
   "metadata": {
    "id": "F9W8ggEBVlcG",
    "colab_type": "text"
   },
   "source": [
    "## Preprocess input for training and testing"
   ]
  },
  {
   "cell_type": "markdown",
   "metadata": {},
   "source": [
    "### Random pixel permutation transform\n",
    "\n",
    "The random pixel permutation transform is used for **Task 2**, analysing the spatial locality inductive bias of CNNs. \n",
    "You will have to add this type of transform to the end of the list of data transforms, if `flag_permute` is set to `True`."
   ]
  },
  {
   "cell_type": "code",
   "execution_count": 8,
   "metadata": {
    "id": "RDTKjPO_4GLG",
    "colab_type": "code",
    "cellView": "form",
    "colab": {}
   },
   "outputs": [],
   "source": [
    "class RandomPermute(object):\n",
    "    \"\"\"\n",
    "    An implementation of a custom PyTorch data transformation class.\n",
    "    The transform will apply a constant random pixel permutation of the image tensor.\n",
    "    The permutation is applied to a subset of pixels up to a factor `f` in [0, 1].\n",
    "    The default is to permute all pixels.\n",
    "    \"\"\"\n",
    "    def __init__(self, width: int = 32, height: int = 32, factor: float = 1.):\n",
    "        # The constructor of the transformer defines the random subset of pixels to be permuted\n",
    "        # and the random permutation order of these pixels\n",
    "        \n",
    "        # define an initial seed for the random generator to obtain the same random\n",
    "        # permutation for each image\n",
    "        rnd_generator = np.random.RandomState(10)\n",
    "        pixel_coord = np.arange(0, width * height)\n",
    "        rnd_generator.shuffle(pixel_coord)\n",
    "        \n",
    "        # Select pixel coord to permute\n",
    "        pixel_coord = pixel_coord[:int(factor * len(pixel_coord))]  \n",
    "        \n",
    "        # Define permute order\n",
    "        permute_order = np.arange(0, len(pixel_coord))  \n",
    "        rnd_generator.shuffle(permute_order)\n",
    "        \n",
    "        self.pixel_coord = pixel_coord\n",
    "        self.permute_order = permute_order\n",
    "\n",
    "    def __call__(self, image):\n",
    "        # The __call__ is made for each image tensor \n",
    "        pixel_coord = self.pixel_coord\n",
    "        permute_order = self.permute_order\n",
    "\n",
    "        image_size = image.size()\n",
    "        image = image.view(image.size(0), -1)\n",
    "        # Permute pixels\n",
    "        image[:, pixel_coord] = image[:, pixel_coord][:, permute_order]\n",
    "        image = image.view(image_size)\n",
    "        \n",
    "        return image\n"
   ]
  },
  {
   "cell_type": "markdown",
   "metadata": {},
   "source": [
    "## Defining RESNET-50 Blocks\n",
    "\n",
    "The PyTorch implementation of ResNet-50 defines 4 logical \"layers\" of _ResNet block_ groups, which are set up according to the number of channels that result after each logical layer.\n",
    "\n",
    "The configuration below specifies that there the network is composed of:\n",
    "  * 3 ResNet blocks with 64 channels and a _\"first-block-dimension-reduction-stride\"_ of 1\n",
    "  * 4 ResNet blocks with 128 channels and a _\"first-block-dimension-reduction-stride\"_ of 2 (halfing the input size)\n",
    "  * 6 ResNet blocks with 256 channels and a _\"first-block-dimension-reduction-stride\"_ of 2 (halfing the input size)\n",
    "  * 3 ResNet blocks with 512 channels and a _\"first-block-dimension-reduction-stride\"_ of 2 (halfing the input size)\n"
   ]
  },
  {
   "cell_type": "code",
   "execution_count": 0,
   "metadata": {
    "id": "fRsh0ZUeV6m2",
    "colab_type": "code",
    "colab": {}
   },
   "outputs": [],
   "source": [
    "# define parameters of resnet blocks for resnet-50 model\n",
    "import collections\n",
    "\n",
    "ResNetBlockParams = collections.namedtuple(\n",
    "    \"ResNetBlockParams\", [\"neck_ch\", \"blocks\", \"stride\"])\n",
    "\n",
    "BLOCKS_50 = (\n",
    "    ResNetBlockParams(64, 3, 1),\n",
    "    ResNetBlockParams(128, 4, 2),\n",
    "    ResNetBlockParams(256, 6, 2),\n",
    "    ResNetBlockParams(512, 3, 2)\n",
    ")\n"
   ]
  },
  {
   "cell_type": "markdown",
   "metadata": {},
   "source": [
    "### TODO 1.1: define the convolution operations inside the ResNet-50 block\n",
    "You have to define the 3x3 and 1x1 convolutions that compose the ResNet-50 block"
   ]
  },
  {
   "cell_type": "code",
   "execution_count": null,
   "metadata": {},
   "outputs": [],
   "source": [
    "def conv3x3(in_planes, out_planes, stride=1, padding=1):\n",
    "    \"\"\"\n",
    "    3x3 2D convolution with padding=1\n",
    "    @:param in_planes: the number of input channels for the convolution filter\n",
    "    @:param out_planes: the number of output channels for the convolution filter\n",
    "    @:param stride: stride value for the convolution filter, default is 1\n",
    "    @:param padding: the padding to apply, default is 1 to keep width and height the same in the output activation maps \n",
    "    \"\"\"\n",
    "    return nn.Conv2d(in_planes, out_planes, kernel_size=3, stride=stride,\n",
    "                     padding=padding, bias=False)\n",
    "\n",
    "\n",
    "def conv1x1(in_planes, out_planes, stride=1):\n",
    "    \"\"\"\n",
    "    1x1 2D convolution\n",
    "    @:param in_planes: the number of input channels for the convolution filter\n",
    "    @:param out_planes: the number of output channels for the convolution filter\n",
    "    @:param stride: stride value for the convolution filter, default is 1\n",
    "    \"\"\"\n",
    "    return nn.Conv2d(in_planes, out_planes, kernel_size=1, stride=stride, bias=False)\n"
   ]
  },
  {
   "cell_type": "markdown",
   "metadata": {},
   "source": [
    "### TODO 1.2 Define the ResNet block with \"bottleneck\"\n",
    "\n",
    "The ResNet-50 _Bottleneck_ block is defined as in the following figure.\n",
    "\n",
    "![ResNet-50 Bottleneck block](img/Bottleneck-Blocks-for-ResNet-50-left-identity-shortcut-right-projection-shortcut.png)\n",
    "\n",
    "The image on the left displays the case where `stride=1` and the block performs no _downsampling_ of the input because the conv 3x3 on the residual part keeps the same dimensions (using stride=1).\n",
    "\n",
    "The image on the right shows the operations when `stride=2` and the output of the bottleneck layer is one where _downsampling_ needs to be performed on the input to match the halfing of the image size on the residual path.\n"
   ]
  },
  {
   "cell_type": "code",
   "execution_count": 9,
   "metadata": {
    "id": "xby5GIFGaIEh",
    "colab_type": "code",
    "colab": {}
   },
   "outputs": [],
   "source": [
    "class Bottleneck(nn.Module):\n",
    "    expansion = 4\n",
    "\n",
    "    def __init__(self, inplanes, planes, stride=1, downsample=None,\n",
    "                 base_width=64, norm_layer=nn.BatchNorm2d):\n",
    "        \n",
    "        super(Bottleneck, self).__init__()\n",
    "        \n",
    "        # `inplanes` defines the initial number of input channels for the bottleneck block\n",
    "        # `width` encodes the number of filters `f` in the picture of the bottleneck block above \n",
    "        width = int(planes * (base_width / 64.))\n",
    "        \n",
    "        # Both self.conv2 and self.downsample layers downsample the input when stride != 1\n",
    "        \n",
    "        # first conv 1x1 layer which implements the bottlenecking\n",
    "        self.conv1 = conv1x1(inplanes, width) \n",
    "        self.bn1 = norm_layer(width)\n",
    "        \n",
    "        # conv 3x3 layer which applies the stride given as parameter\n",
    "        self.conv2 = conv3x3(width, width, stride) \n",
    "        self.bn2 = norm_layer(width)\n",
    "        \n",
    "        # conv 1x1 layer where the number of output channels is \"expanded\" according to the defined expansion factor\n",
    "        # according to the above figure, the expansion factor is set to 4\n",
    "        self.conv3 = conv1x1(width, planes * self.expansion)\n",
    "        self.bn3 = norm_layer(planes * self.expansion)\n",
    "        \n",
    "        self.relu = nn.ReLU(inplace=True)\n",
    "        \n",
    "        self.downsample = downsample\n",
    "        self.stride = stride\n",
    "\n",
    "    def forward(self, x):\n",
    "        identity = x\n",
    "        \n",
    "        # first layer conv1 + bn1 + relu\n",
    "        out = self.conv1(x)\n",
    "        out = self.bn1(out)\n",
    "        out = self.relu(out)\n",
    "        \n",
    "        # second layer conv2 + bn2 + relu\n",
    "        out = self.conv2(out)\n",
    "        out = self.bn2(out)\n",
    "        out = self.relu(out)\n",
    "        \n",
    "        # third layer conv3 + bn3\n",
    "        out = self.conv3(out)\n",
    "        out = self.bn3(out)\n",
    "        \n",
    "        # apply downsample to identity (original input to block), if it is defined (right image in figure above)\n",
    "        if self.downsample is not None:\n",
    "            identity = self.downsample(x)\n",
    "        \n",
    "        # add identity to residual and apply relu\n",
    "        out += identity\n",
    "        out = self.relu(out)\n",
    "\n",
    "        return out\n",
    "\n"
   ]
  },
  {
   "cell_type": "markdown",
   "metadata": {},
   "source": [
    "### Defining the ResNet-50 model\n",
    "<div>\n",
    "\t<img title=\"ResNet-50 Architecture\" src=\"img/ResNet-50-arch.jpg\" width=\"300\"/>\n",
    "</div>\n"
   ]
  },
  {
   "cell_type": "code",
   "execution_count": null,
   "metadata": {},
   "outputs": [],
   "source": [
    "class ResNet(nn.Module):\n",
    "\n",
    "    def __init__(self, block, layers, num_classes=10, base_width=64, \n",
    "                 norm_layer=nn.BatchNorm2d):\n",
    "        \"\"\"\n",
    "        Build the ResNet network model - based on PyTorch Model Zoo implementation\n",
    "        \n",
    "        :param block: the Resnet Block model to be used: in our case the `Bottleneck` block\n",
    "        :param layers: the logical layer definition, such as the one in BLOCKS_50\n",
    "        :param num_classes: the number of classes for target labels\n",
    "        :param base_width: the initial number of layers\n",
    "        :param norm_layer: the type of normalization to apply - either BatchNorm or EmptyNorm, default is BatchNorm\n",
    "        \"\"\"\n",
    "        super(ResNet, self).__init__()\n",
    "\n",
    "        self.inplanes = 64\n",
    "        self.dilation = 1\n",
    "        self._norm_layer = norm_layer\n",
    "        \n",
    "        self.base_width = base_width\n",
    "        \n",
    "        # ResNet starts out with an initial 7x7 convolution with stride 2 that halves the input size\n",
    "        self.conv1 = nn.Conv2d(3, self.inplanes, kernel_size=7, stride=2, padding=3,\n",
    "                               bias=False)  # image is now 16x16\n",
    "        self.bn1 = norm_layer(self.inplanes)\n",
    "        self.relu = nn.ReLU(inplace=True)\n",
    "        \n",
    "        # We skip the maxpool layer because it would reduce the size too much starting from a 32 x 32 image \n",
    "        # self.maxpool = nn.MaxPool2d(kernel_size=1, stride=1, padding=1)\n",
    "        \n",
    "        # -- Build resnet logical layers\n",
    "        l = layers\n",
    "        \n",
    "        # logical layer1 - 3 bottleneck blocks with 64 filters and stride=1 \n",
    "        self.layer1 = self._make_layer(block, l[0].neck_ch, l[0].blocks, stride=l[0].stride)    # image is 16x16\n",
    "        \n",
    "        # logical layer2 - 4 bottleneck blocks with 128 filters and stride=2  (i.e. first halving)\n",
    "        self.layer2 = self._make_layer(block, l[1].neck_ch, l[1].blocks, stride=l[1].stride)    # image is 8x8\n",
    "        \n",
    "        # logical layer3 - 6 bottleneck blocks with 256 filters and stride=2  (i.e. second halving)\n",
    "        self.layer3 = self._make_layer(block, l[2].neck_ch, l[2].blocks, stride=l[2].stride)    # image is 4x4\n",
    "        \n",
    "        # logical layer4 - 3 bottleneck blocks with 512 filters and stride=2  (i.e. third halving)\n",
    "        self.layer4 = self._make_layer(block, l[3].neck_ch, l[3].blocks, stride=l[3].stride)    # image is 2x2\n",
    "        \n",
    "        # final ResNet layers - average pooling reduces size to 1x1 + fully connected layer of size 2048\n",
    "        self.avgpool = nn.AdaptiveAvgPool2d((1, 1))\n",
    "        \n",
    "        self.fc = nn.Linear(512 * block.expansion, num_classes)\n",
    "\n",
    "    def _make_layer(self, block, planes, blocks, stride=1):\n",
    "        norm_layer = self._norm_layer\n",
    "        downsample = None\n",
    "\n",
    "        if stride != 1 or self.inplanes != planes * block.expansion:\n",
    "            downsample = nn.Sequential(\n",
    "                conv1x1(self.inplanes, planes * block.expansion, stride),\n",
    "                norm_layer(planes * block.expansion),\n",
    "            )\n",
    "\n",
    "        layers = list()\n",
    "        \n",
    "        # first Bottleneck block in the logical layer is the one that does the downsampling \n",
    "        layers.append(block(self.inplanes, planes, \n",
    "                            stride=stride, downsample=downsample,\n",
    "                            base_width=self.base_width, \n",
    "                            norm_layer=norm_layer))\n",
    "        \n",
    "        # the rest operate on the the downsampled result, keeping the size (i.e. using default stride of 1)\n",
    "        self.inplanes = planes * block.expansion\n",
    "        for _ in range(1, blocks):\n",
    "            layers.append(block(self.inplanes, planes,\n",
    "                                base_width=self.base_width,\n",
    "                                norm_layer=norm_layer))\n",
    "\n",
    "        return nn.Sequential(*layers)\n",
    "    \n",
    "    def forward(self, x):\n",
    "        x = self.conv1(x)\n",
    "        x = self.bn1(x)\n",
    "        x = self.relu(x)\n",
    "\n",
    "        x = self.layer1(x)\n",
    "        x = self.layer2(x)\n",
    "        x = self.layer3(x)\n",
    "        x = self.layer4(x)\n",
    "\n",
    "        x = self.avgpool(x)\n",
    "        x = torch.flatten(x, 1)\n",
    "        x = self.fc(x)\n",
    "\n",
    "        return x\n"
   ]
  },
  {
   "cell_type": "code",
   "execution_count": 0,
   "metadata": {
    "id": "cFrYIsi1aUEm",
    "colab_type": "code",
    "colab": {}
   },
   "outputs": [],
   "source": [
    "from torchvision.models.resnet import model_urls\n",
    "from torch.utils.model_zoo import load_url as load_state_dict_from_url\n",
    "\n",
    "def _resnet(arch, block, layers, pretrained, progress, **kwargs):\n",
    "    model = ResNet(block, layers, **kwargs)\n",
    "    if pretrained:\n",
    "        state_dict = load_state_dict_from_url(model_urls[arch], progress=progress)\n",
    "        model.load_state_dict(state_dict)\n",
    "    return model\n",
    "\n",
    "\n",
    "def resnet50(pretrained=False, progress=True, **kwargs):\n",
    "    r\"\"\"ResNet-50 model from\n",
    "    `\"Deep Residual Learning for Image Recognition\" <https://arxiv.org/pdf/1512.03385.pdf>`_\n",
    "    Args:\n",
    "        pretrained (bool): If True, returns a model pre-trained on ImageNet\n",
    "        progress (bool): If True, displays a progress bar of the download to stderr\n",
    "    \"\"\"\n",
    "    return _resnet('resnet50', Bottleneck, BLOCKS_50, pretrained, progress,\n",
    "                   **kwargs)\n"
   ]
  },
  {
   "cell_type": "markdown",
   "metadata": {
    "id": "7gcsY1Mjaf_s",
    "colab_type": "text"
   },
   "source": [
    "## Define simple MLP baseline"
   ]
  },
  {
   "cell_type": "code",
   "execution_count": 0,
   "metadata": {
    "id": "SYekdfZBaiTy",
    "colab_type": "code",
    "colab": {}
   },
   "outputs": [],
   "source": [
    "import torch.nn.functional as F\n",
    "\n",
    "\n",
    "class MLP(nn.Module):\n",
    "    def __init__(self, num_classes=10, norm_layer=nn.BatchNorm1d):\n",
    "        super(MLP, self).__init__()\n",
    "        in_size = 3 * 32 * 32\n",
    "        self.fc1 = nn.Linear(in_size, 1024)\n",
    "        self.bc1 = norm_layer(1024)\n",
    "        self.fc2 = nn.Linear(1024, 1024)\n",
    "        self.bc2 = norm_layer(1024)\n",
    "        self.fc3 = nn.Linear(1024, num_classes)\n",
    "\n",
    "    def forward(self, x):\n",
    "        x = torch.flatten(x, 1)\n",
    "\n",
    "        x = self.bc1(F.relu(self.fc1(x)))\n",
    "        x = self.bc2(F.relu(self.fc2(x)))\n",
    "        x = self.fc3(x)\n",
    "        return x\n"
   ]
  },
  {
   "cell_type": "markdown",
   "metadata": {},
   "source": [
    "## Define Empty Normalization Layer"
   ]
  },
  {
   "cell_type": "code",
   "execution_count": null,
   "metadata": {},
   "outputs": [],
   "source": [
    "class EmptyNorm(nn.Module):\n",
    "    def __init__(self, *args, **kwargs):\n",
    "        super(EmptyNorm, self).__init__()\n",
    "        self._modules = dict()\n",
    "    \n",
    "    def forward(self, input):\n",
    "        return input"
   ]
  },
  {
   "cell_type": "markdown",
   "metadata": {
    "id": "QPex0rz3auId",
    "colab_type": "text"
   },
   "source": [
    "## Set up training pipeline"
   ]
  },
  {
   "cell_type": "code",
   "execution_count": 0,
   "metadata": {
    "id": "SoTsOIRQSPV0",
    "colab_type": "code",
    "colab": {}
   },
   "outputs": [],
   "source": [
    "# First define the preprocessing ops for the train/test data\n",
    "crop_height = 32  # @param \n",
    "crop_width = 32  # @param\n",
    "NUM_CLASSES = 10  # @param\n"
   ]
  },
  {
   "cell_type": "markdown",
   "metadata": {
    "id": "117ebPugarCO",
    "colab_type": "text"
   },
   "source": [
    "### Initialize network & Get predictions from either MLP baseline or convnet"
   ]
  },
  {
   "cell_type": "code",
   "execution_count": 0,
   "metadata": {
    "id": "pfHEpqp3DZbR",
    "colab_type": "code",
    "colab": {}
   },
   "outputs": [],
   "source": [
    "blocks = BLOCKS_50\n",
    "net = None  # type: nn.Module\n",
    "\n",
    "if model == 'mlp':\n",
    "    net = MLP(num_classes=NUM_CLASSES)\n",
    "else:  # model is resnet_v2\n",
    "    net = resnet50(num_classes=NUM_CLASSES)\n",
    "\n",
    "net.train()  # Default after init is train\n",
    "net = net.to(device)  # Move network to device\n",
    "\n",
    "# Let us test that we can propagate a batch through the defined networks\n",
    "select = 2\n",
    "inputs = batch_train_images.to(device)[:select]\n",
    "target = batch_train_labels[:select]\n",
    "\n",
    "output = net(inputs)\n",
    "_, predicted = torch.max(output, 1)\n",
    "\n",
    "print(output)\n",
    "print(predicted)\n",
    "print(target)\n"
   ]
  },
  {
   "cell_type": "code",
   "execution_count": 0,
   "metadata": {
    "id": "5-F4W5niV1sm",
    "colab_type": "code",
    "colab": {}
   },
   "outputs": [],
   "source": [
    "# Get number of parameters in a model by iterating through the model parameters\n",
    "def get_num_params(model):\n",
    "    num_params = 0\n",
    "    for params in model.parameters():\n",
    "        num_params += params.shape.numel()\n",
    "        \n",
    "    return num_params\n"
   ]
  },
  {
   "cell_type": "code",
   "execution_count": 0,
   "metadata": {
    "id": "l7VKCh9ySddK",
    "colab_type": "code",
    "colab": {}
   },
   "outputs": [],
   "source": [
    "# Get number of parameters in the model. Verify that we have implemented models correctly\n",
    "print(\"Total number of parameters of models\")\n",
    "print(get_num_params(\"resnet_v2\"))  # should be on the order of 23M\n",
    "print(get_num_params(\"mlp\"))        # should be on the order of 4M\n"
   ]
  },
  {
   "cell_type": "code",
   "execution_count": 0,
   "metadata": {
    "id": "xXwpnrFWSmBg",
    "colab_type": "code",
    "colab": {}
   },
   "outputs": [],
   "source": [
    "def top_k_accuracy(k, target, output):\n",
    "    batch_size = target.size(0)\n",
    "    \n",
    "    _, pred = output.topk(k, 1, True, True)\n",
    "    \n",
    "    pred = pred.t()\n",
    "    correct = pred.eq(target.to(device).view(1, -1).expand_as(pred))\n",
    "\n",
    "    correct_k = correct[:k].view(-1).float().sum(0, keepdim=True)\n",
    "    correct_k.mul_(100.0 / batch_size)\n",
    "    \n",
    "    return correct_k\n",
    "    \n",
    "# For evaluation, we look at top_k_accuracy since it's easier to interpret; normally k=1 or k=5\n",
    "# def top_k_accuracy(k, labels, logits):\n",
    "#     in_top_k = tf.nn.in_top_k(predictions=tf.squeeze(logits), targets=labels, k=k)\n",
    "#     return tf.reduce_mean(tf.cast(in_top_k, tf.float32))"
   ]
  },
  {
   "cell_type": "code",
   "execution_count": 0,
   "metadata": {
    "id": "l_dTKQblSzkm",
    "colab_type": "code",
    "colab": {}
   },
   "outputs": [],
   "source": [
    "# def get_optimizer(step):\n",
    "#     \"\"\"Get the optimizer used for training.\"\"\"\n",
    "#     lr_init = 0.01  # initial value for the learning rate\n",
    "#     lr_schedule = (90e3, 100e3, 110e3) # after how many iterations to reduce the learning rate\n",
    "#     lr_schedule = tf.cast(lr_schedule, tf.int64)\n",
    "#     lr_factor = 0.1 # reduce learning rate by this factor\n",
    "#     num_epochs = tf.reduce_sum(tf.cast(step >= lr_schedule, tf.float32))\n",
    "#     lr = lr_init * lr_factor**num_epochs\n",
    "#     \n",
    "#     return tf.train.MomentumOptimizer(learning_rate=lr, momentum=0.9)\n",
    "\n",
    "\n",
    "lr_init = 0.01              # initial learning rate\n",
    "lr_factor = 0.1             # learning rate decay factor\n",
    "weight_decay_factor = 1e-4  # weight decay factor for L2 weight regularization\n",
    "lr_schedule_milestones = [90e3, 100e3, 110e3]\n",
    "\n",
    "# Define a Loss function and optimizer\n",
    "criterion = nn.CrossEntropyLoss()\n",
    "\n",
    "# Define optimizer - SGD with momentum and weight_decay for L2 weight regularization\n",
    "#optimizer = torch.optim.SGD(net.parameters(), lr=lr_init, momentum=0.9, weight_decay=weight_decay_factor)\n",
    "optimizer = torch.optim.Adam(net.parameters(), lr=0.01, weight_decay=weight_decay_factor)\n",
    "\n",
    "# Define learning rate scheduler\n",
    "lr_scheduler = torch.optim.lr_scheduler.MultiStepLR(optimizer, milestones=lr_schedule_milestones, gamma=lr_factor)\n"
   ]
  },
  {
   "cell_type": "code",
   "execution_count": 0,
   "metadata": {
    "id": "BeHQMMqsS9Cz",
    "colab_type": "code",
    "colab": {}
   },
   "outputs": [],
   "source": [
    "# Function that takes a list of losses and plots them.\n",
    "def plot_losses(loss_list, steps):\n",
    "    display.clear_output(wait=True)\n",
    "    display.display(pl.gcf())\n",
    "    pl.plot(steps, loss_list, c='b')\n",
    "    time.sleep(1.0)"
   ]
  },
  {
   "cell_type": "markdown",
   "metadata": {
    "id": "JQBpZRP-TKI0",
    "colab_type": "text"
   },
   "source": [
    "### Define training parameters"
   ]
  },
  {
   "cell_type": "code",
   "execution_count": 0,
   "metadata": {
    "id": "YNtIcyk7S_ub",
    "colab_type": "code",
    "colab": {}
   },
   "outputs": [],
   "source": [
    "# Define number of training iterations and reporting intervals\n",
    "TRAIN_ITERS = 100e3  # @param\n",
    "REPORT_TRAIN_EVERY = 20  # @param\n",
    "PLOT_EVERY = 20  # @param\n",
    "REPORT_TEST_EVERY = 50  # @param\n",
    "TEST_ITERS = 100  # @param"
   ]
  },
  {
   "cell_type": "markdown",
   "metadata": {
    "id": "6ARGcbSGTFDN",
    "colab_type": "text"
   },
   "source": [
    "### Training the model"
   ]
  },
  {
   "cell_type": "code",
   "execution_count": 0,
   "metadata": {
    "id": "VSuV2dF-TDCD",
    "colab_type": "code",
    "colab": {}
   },
   "outputs": [],
   "source": [
    "# Question: What is the accuracy of the model at iteration 0, i.e. before training starts?\n",
    "\n",
    "EPOCHS = int(TRAIN_ITERS / (TRAIN_DATASET_SIZE / BATCH_SIZE_TRAIN))\n",
    "\n",
    "train_iter = 0\n",
    "test_ct = 0\n",
    "\n",
    "losses = []\n",
    "steps = []\n",
    "\n",
    "# set model in train mode\n",
    "net.train()\n",
    "\n",
    "for epoch in range(int(EPOCHS)):  # loop over the dataset multiple times\n",
    "    running_loss = 0.0\n",
    "        \n",
    "    for i, data in enumerate(train_loader, 0):\n",
    "        # set the learning rate and decay according to iteration schedule\n",
    "        lr_scheduler.step()\n",
    "        \n",
    "        # get the inputs; data is a list of [inputs, labels]\n",
    "        inputs, labels = data[0].to(device), data[1].to(device)\n",
    "\n",
    "        # zero the parameter gradients\n",
    "        optimizer.zero_grad()\n",
    "\n",
    "        # forward + backward + optimize\n",
    "        outputs = net(inputs)\n",
    "        loss = criterion(outputs, labels)\n",
    "        loss.backward()\n",
    "        optimizer.step()\n",
    "\n",
    "        # print statistics\n",
    "        running_loss += loss.item()\n",
    "        \n",
    "        if train_iter % REPORT_TRAIN_EVERY == 0:    # print every REPORT_TRAIN_EVERY mini-batch iterations\n",
    "            train_loss = running_loss / (i + 1)\n",
    "            \n",
    "            print('[%d, %5d, %6d] LR: %.5f' % (epoch + 1, i + 1, train_iter, lr_scheduler.get_lr()[-1]))\n",
    "            print('[%d, %5d] loss: %.5f' %\n",
    "                  (epoch + 1, i + 1, train_loss))\n",
    "            \n",
    "            losses.append(train_loss)\n",
    "            steps.append(train_iter)\n",
    "            \n",
    "        if train_iter % PLOT_EVERY == 0:\n",
    "            plot_losses(losses, steps)\n",
    "            \n",
    "        train_iter += 1\n",
    "    \n",
    "        if train_iter % REPORT_TEST_EVERY == 0:\n",
    "            # set model in test mode\n",
    "            net.eval()\n",
    "            \n",
    "            with torch.no_grad():\n",
    "                # evaluate over at most TEST_ITER sub samples from the test_loader\n",
    "                test_iter = 0\n",
    "                test_loss = 0\n",
    "                correct = 0\n",
    "                \n",
    "                for j, test_data in enumerate(test_loader, start=test_ct):\n",
    "                    \n",
    "                    # get the test inputs; data is a list of [inputs, labels]\n",
    "                    test_inputs, test_labels = test_data[0].to(device), test_data[1].to(device)\n",
    "                    \n",
    "                    out = net(test_inputs)\n",
    "                    test_loss += criterion(out, test_labels)\n",
    "                    \n",
    "                    correct += top_k_accuracy(1, test_labels, out)\n",
    "                    \n",
    "                    test_iter += 1\n",
    "                    \n",
    "                    if test_iter == TEST_ITERS - 1:\n",
    "                        break\n",
    "                \n",
    "                avg_test_loss = test_loss / test_iter\n",
    "                avg_acc = correct / test_iter\n",
    "                \n",
    "                print('[%d, %5d] avg_test_loss: %.5f, avg_test_acc: %.2f' \n",
    "                    % (epoch + 1, i + 1, avg_test_loss, avg_acc))\n",
    "                \n",
    "                # next time start from farther in the test_loader\n",
    "                test_ct += test_iter\n",
    "                \n",
    "                if test_ct >= TEST_DATASET_SIZE:\n",
    "                    # reset if having reached end of test dataset\n",
    "                    test_ct = 0\n",
    "                \n",
    "            # set model back in train mode\n",
    "            net.train()\n",
    "    \n",
    "print('Finished Training')\n",
    "\"\"\"\n",
    "for train_iter in range(int(TRAIN_ITERS)):\n",
    "  _, train_loss_np, inp_img, tr_lbl = sess.run([training_op, train_loss, inp_train, batch_train_labels])\n",
    "  \n",
    "  if (train_iter % REPORT_TRAIN_EVERY) == 0:\n",
    "    losses.append(train_loss_np)\n",
    "    steps.append(train_iter)\n",
    "  if (train_iter % PLOT_EVERY) == 0:\n",
    "    pass\n",
    "    # plot_losses(losses, steps)    \n",
    "    \n",
    "  if (train_iter % REPORT_TEST_EVERY) == 0:\n",
    "    avg_acc = 0.0\n",
    "    train_avg_acc = 0.0\n",
    "    for test_iter in range(TEST_ITERS):\n",
    "      acc, acc_train = sess.run([test_acc_op, train_acc_op])\n",
    "      avg_acc += acc\n",
    "      train_avg_acc += acc_train\n",
    "      \n",
    "    avg_acc /= (TEST_ITERS)\n",
    "    train_avg_acc /= (TEST_ITERS)\n",
    "    print ('Test acc at iter {0:5d} out of {1:5d} is {2:.2f}%'.format(int(train_iter), int(TRAIN_ITERS), avg_acc*100.0))\n",
    "\"\"\""
   ]
  }
 ],
 "metadata": {
  "colab": {
   "name": "ComputerVisionPart1.ipynb",
   "version": "0.3.2",
   "provenance": [],
   "collapsed_sections": []
  },
  "kernelspec": {
   "name": "python2",
   "display_name": "Python 2"
  },
  "accelerator": "GPU"
 },
 "nbformat": 4,
 "nbformat_minor": 0
}
