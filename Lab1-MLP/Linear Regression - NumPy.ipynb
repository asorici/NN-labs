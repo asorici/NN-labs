{
 "cells": [
  {
   "cell_type": "markdown",
   "metadata": {
    "colab_type": "text",
    "id": "S0sxz3iadcmj"
   },
   "source": [
    "# Linear Regression #\n",
    "\n",
    "Tudor Berariu (`tberariu@bitdefender.com`)"
   ]
  },
  {
   "cell_type": "code",
   "execution_count": 0,
   "metadata": {
    "colab": {},
    "colab_type": "code",
    "id": "q0bfI-ESdcmk"
   },
   "outputs": [],
   "source": [
    "import numpy as np  # For operations on tensors\n",
    "\n",
    "# %matplotlib notebook\n",
    "import seaborn as sns\n",
    "sns.set()\n",
    "import matplotlib.pyplot as plt"
   ]
  },
  {
   "cell_type": "markdown",
   "metadata": {
    "colab_type": "text",
    "id": "MPBa_hd9dcmn"
   },
   "source": [
    "## 1. The problem to solve ##"
   ]
  },
  {
   "cell_type": "code",
   "execution_count": 22,
   "metadata": {
    "colab": {
     "base_uri": "https://localhost:8080/",
     "height": 508
    },
    "colab_type": "code",
    "executionInfo": {
     "elapsed": 1129,
     "status": "ok",
     "timestamp": 1562933436304,
     "user": {
      "displayName": "Tudor Berariu",
      "photoUrl": "https://lh4.googleusercontent.com/-o08Fm7MHFV0/AAAAAAAAAAI/AAAAAAAAFi4/8XKI1lfCmQo/s64/photo.jpg",
      "userId": "12064641010672794918"
     },
     "user_tz": -180
    },
    "id": "zXCyf3-sdcmo",
    "outputId": "e828ba36-6a42-4706-8e5f-c351dc88aeaa"
   },
   "outputs": [
    {
     "data": {
      "image/png": "[encoded data removed]",
      "text/plain": [
       "<Figure size 720x576 with 1 Axes>"
      ]
     },
     "metadata": {
      "tags": []
     },
     "output_type": "display_data"
    }
   ],
   "source": [
    "def generate_examples(N:int = 9, noise:float = 0.2, dist_noise:float = 0.2):\n",
    "    X = np.linspace(0, 1.75 * np.pi, N)\n",
    "    X += np.random.randn(N) * dist_noise\n",
    "    T = np.sin(X) + np.random.randn(N) * noise\n",
    "    return X, T\n",
    "\n",
    "N_train = 9\n",
    "N_test = 50\n",
    "noise = 0.15\n",
    "\n",
    "X_train, T_train = generate_examples(N=N_train, noise=noise)\n",
    "X_test, T_test = generate_examples(N=N_test, noise=noise)\n",
    "X_real, T_real = generate_examples(100, .0, .0)\n",
    "\n",
    "plt.figure(figsize=(10,8)); plt.axis('equal')\n",
    "plt.plot(X_real, T_real, sns.xkcd_rgb[\"green\"], label=\"Ideal function\")\n",
    "plt.scatter(X_train, T_train, s=30, label=\"Train examples\")\n",
    "plt.scatter(X_test, T_test, s=10, label=\"Test examples\")\n",
    "plt.xlabel(\"x\")\n",
    "plt.legend(bbox_to_anchor=(1, 1), loc='upper right', ncol=1)\n",
    "plt.show()"
   ]
  },
  {
   "cell_type": "markdown",
   "metadata": {
    "colab_type": "text",
    "id": "wBKlrBo7hSBG"
   },
   "source": []
  },
  {
   "cell_type": "markdown",
   "metadata": {
    "colab_type": "text",
    "id": "11-0RM4ldcms"
   },
   "source": [
    "## 2. Extracting polynomial features\n",
    "$$\\phi_i(x) = x^i, \\quad 0 \\le i \\le M$$"
   ]
  },
  {
   "cell_type": "code",
   "execution_count": 0,
   "metadata": {
    "colab": {},
    "colab_type": "code",
    "id": "YpUC1DdAdcmt"
   },
   "outputs": [],
   "source": [
    "def extract_features(X: np.ndarray, M: int) -> np.ndarray:\n",
    "    # TODO <1> : given X of length N and integer M, compute Phi, a N x (M+1) array\n",
    "    N = X.size\n",
    "    phi = np.ones((N, M + 1))\n",
    "    for j in range(1, M+1):\n",
    "        phi[:,j] = phi[:,j-1] * X\n",
    "    return phi"
   ]
  },
  {
   "cell_type": "code",
   "execution_count": 0,
   "metadata": {
    "colab": {},
    "colab_type": "code",
    "id": "FnUOIvxadcmv"
   },
   "outputs": [],
   "source": []
  },
  {
   "cell_type": "code",
   "execution_count": 24,
   "metadata": {
    "colab": {
     "base_uri": "https://localhost:8080/",
     "height": 179
    },
    "colab_type": "code",
    "executionInfo": {
     "elapsed": 547,
     "status": "ok",
     "timestamp": 1562933437296,
     "user": {
      "displayName": "Tudor Berariu",
      "photoUrl": "https://lh4.googleusercontent.com/-o08Fm7MHFV0/AAAAAAAAAAI/AAAAAAAAFi4/8XKI1lfCmQo/s64/photo.jpg",
      "userId": "12064641010672794918"
     },
     "user_tz": -180
    },
    "id": "sFqOaI7bdcmx",
    "outputId": "e053c992-e4b2-49cc-88cc-7e039a78a144"
   },
   "outputs": [
    {
     "data": {
      "text/plain": [
       "array([[1.00000000e+00, 1.49407328e-01, 2.23225497e-02],\n",
       "       [1.00000000e+00, 7.44703122e-01, 5.54582741e-01],\n",
       "       [1.00000000e+00, 1.17320496e+00, 1.37640987e+00],\n",
       "       [1.00000000e+00, 2.02574247e+00, 4.10363255e+00],\n",
       "       [1.00000000e+00, 2.51421624e+00, 6.32128328e+00],\n",
       "       [1.00000000e+00, 3.15608218e+00, 9.96085472e+00],\n",
       "       [1.00000000e+00, 4.05043820e+00, 1.64060496e+01],\n",
       "       [1.00000000e+00, 4.98445286e+00, 2.48447703e+01],\n",
       "       [1.00000000e+00, 5.22870465e+00, 2.73393523e+01]])"
      ]
     },
     "execution_count": 24,
     "metadata": {
      "tags": []
     },
     "output_type": "execute_result"
    }
   ],
   "source": [
    "extract_features(X_train, 2)"
   ]
  },
  {
   "cell_type": "code",
   "execution_count": 25,
   "metadata": {
    "colab": {
     "base_uri": "https://localhost:8080/",
     "height": 35
    },
    "colab_type": "code",
    "executionInfo": {
     "elapsed": 562,
     "status": "ok",
     "timestamp": 1562933437643,
     "user": {
      "displayName": "Tudor Berariu",
      "photoUrl": "https://lh4.googleusercontent.com/-o08Fm7MHFV0/AAAAAAAAAAI/AAAAAAAAFi4/8XKI1lfCmQo/s64/photo.jpg",
      "userId": "12064641010672794918"
     },
     "user_tz": -180
    },
    "id": "obwyeM5tdcm2",
    "outputId": "0204d4ce-6667-4572-fa67-91ae880385d8"
   },
   "outputs": [
    {
     "data": {
      "text/plain": [
       "array([ 1.,  4.,  9., 16., 25.])"
      ]
     },
     "execution_count": 25,
     "metadata": {
      "tags": []
     },
     "output_type": "execute_result"
    }
   ],
   "source": [
    "np.linspace(1, 5, 5) ** 2"
   ]
  },
  {
   "cell_type": "markdown",
   "metadata": {
    "colab_type": "text",
    "id": "xMGOdmV0dcm5"
   },
   "source": [
    "## 3. The cost function ##\n",
    "$$MSE = \\frac{1}{N}\\sum_{n=1}^{N} \\left(y_n - t_n\\right)^2$$"
   ]
  },
  {
   "cell_type": "code",
   "execution_count": 0,
   "metadata": {
    "colab": {},
    "colab_type": "code",
    "id": "c0icbhk8dcm6"
   },
   "outputs": [],
   "source": [
    "def mean_squared_error(Y: np.ndarray, T: np.ndarray) -> float:\n",
    "    # TODO <2> : Given predictions Y and targets T, compute the MSE\n",
    "    return np.mean((Y - T) * (Y- T))"
   ]
  },
  {
   "cell_type": "markdown",
   "metadata": {
    "colab_type": "text",
    "id": "eel-xln3dcm8"
   },
   "source": [
    "## 4. Closed form solution for linear models ##\n",
    "$$ y\\left(x, {\\bf w}\\right) = {\\bf \\phi}\\left(x\\right)^\\intercal {\\bf w}$$\n",
    "$${\\bf w}^* = \\left({\\bf \\Phi}^\\intercal {\\bf \\Phi}\\right)^{-1} {\\bf \\Phi}^\\intercal {\\bf T} = {\\bf \\Phi}^{\\dagger} {\\bf T}$$"
   ]
  },
  {
   "cell_type": "code",
   "execution_count": 0,
   "metadata": {
    "colab": {},
    "colab_type": "code",
    "id": "b2qFO2fEdcm9"
   },
   "outputs": [],
   "source": [
    "def train_params(X, T, M):\n",
    "    # TODO <3> : Given train examples (X, T), and integer M compute w*\n",
    "    \n",
    "    Phi = extract_features(X, M)\n",
    "    W = np.dot(np.linalg.pinv(Phi),T)\n",
    "    return W"
   ]
  },
  {
   "cell_type": "code",
   "execution_count": 0,
   "metadata": {
    "colab": {},
    "colab_type": "code",
    "id": "cg5MLnALdcnA"
   },
   "outputs": [],
   "source": [
    "def predict(X, W, M):\n",
    "    # TODO <4> : Given inputs X, weights W, and integer M, compute predictions Y\n",
    "    Phi = extract_features(X, M)\n",
    "    Y = np.dot(Phi, W)\n",
    "    return Y"
   ]
  },
  {
   "cell_type": "code",
   "execution_count": 29,
   "metadata": {
    "colab": {
     "base_uri": "https://localhost:8080/",
     "height": 53
    },
    "colab_type": "code",
    "executionInfo": {
     "elapsed": 422,
     "status": "ok",
     "timestamp": 1562933444667,
     "user": {
      "displayName": "Tudor Berariu",
      "photoUrl": "https://lh4.googleusercontent.com/-o08Fm7MHFV0/AAAAAAAAAAI/AAAAAAAAFi4/8XKI1lfCmQo/s64/photo.jpg",
      "userId": "12064641010672794918"
     },
     "user_tz": -180
    },
    "id": "4J0TyN3ZdcnC",
    "outputId": "087abd4d-f94c-40c7-a687-2e08506cc4ee"
   },
   "outputs": [
    {
     "name": "stdout",
     "output_type": "stream",
     "text": [
      "[ 0.0463657   0.71933091  0.93438825  0.80495242  0.48159414 -0.08712714\n",
      " -0.83494407 -0.98406986 -0.82266831]\n"
     ]
    }
   ],
   "source": [
    "w = train_params(X_train, T_train, 4)\n",
    "print(extract_features(X_train, 4) @ w)"
   ]
  },
  {
   "cell_type": "markdown",
   "metadata": {
    "colab_type": "text",
    "id": "lgqdbH7vdcnI"
   },
   "source": [
    "## 5. Visualize the function learned by the model ##"
   ]
  },
  {
   "cell_type": "code",
   "execution_count": 31,
   "metadata": {
    "colab": {
     "base_uri": "https://localhost:8080/",
     "height": 327
    },
    "colab_type": "code",
    "executionInfo": {
     "elapsed": 898,
     "status": "ok",
     "timestamp": 1562933455515,
     "user": {
      "displayName": "Tudor Berariu",
      "photoUrl": "https://lh4.googleusercontent.com/-o08Fm7MHFV0/AAAAAAAAAAI/AAAAAAAAFi4/8XKI1lfCmQo/s64/photo.jpg",
      "userId": "12064641010672794918"
     },
     "user_tz": -180
    },
    "id": "xcFZNmS9dcnI",
    "outputId": "cdb7336e-3051-46c5-c530-1fdcc44fb091"
   },
   "outputs": [
    {
     "name": "stdout",
     "output_type": "stream",
     "text": [
      "Train error: 0.0060780992531687915\n",
      "Test  error: 0.032643288555938614\n"
     ]
    },
    {
     "data": {
      "image/png": "[encoded data removed]",
      "text/plain": [
       "<Figure size 432x288 with 1 Axes>"
      ]
     },
     "metadata": {
      "tags": []
     },
     "output_type": "display_data"
    }
   ],
   "source": [
    "M = 3\n",
    "\n",
    "# Train\n",
    "W = train_params(X_train, T_train, M)\n",
    "\n",
    "# Compute mean squared error\n",
    "Y_train = predict(X_train, W, M)\n",
    "Y_test = predict(X_test, W, M)\n",
    "print(\"Train error:\", mean_squared_error(Y_train, T_train))\n",
    "print(\"Test  error:\", mean_squared_error(Y_test, T_test))\n",
    "\n",
    "# Plot\n",
    "Y_real = predict(X_real, W, M)\n",
    "\n",
    "plt.figure(); plt.axis('equal'); plt.ylim(-3, 3)\n",
    "plt.plot(X_real, T_real, sns.xkcd_rgb[\"green\"], label=\"Ideal function\")\n",
    "plt.plot(X_real, Y_real, sns.xkcd_rgb[\"red\"], label=\"Learned function\")\n",
    "plt.scatter(X_train, T_train, s=100, label=\"Train examples\")\n",
    "plt.xlabel(\"x\")\n",
    "plt.legend(bbox_to_anchor=(1, 1), loc='upper right', ncol=1)\n",
    "plt.show()"
   ]
  },
  {
   "cell_type": "markdown",
   "metadata": {
    "colab_type": "text",
    "id": "4ABop_3VdcnN"
   },
   "source": [
    "## 6. Model selection ##"
   ]
  },
  {
   "cell_type": "code",
   "execution_count": 32,
   "metadata": {
    "colab": {
     "base_uri": "https://localhost:8080/",
     "height": 291
    },
    "colab_type": "code",
    "executionInfo": {
     "elapsed": 818,
     "status": "ok",
     "timestamp": 1562933461821,
     "user": {
      "displayName": "Tudor Berariu",
      "photoUrl": "https://lh4.googleusercontent.com/-o08Fm7MHFV0/AAAAAAAAAAI/AAAAAAAAFi4/8XKI1lfCmQo/s64/photo.jpg",
      "userId": "12064641010672794918"
     },
     "user_tz": -180
    },
    "id": "ohhQPhacdcnN",
    "outputId": "86633b8e-ffd5-4016-f228-a2ce7b935ef5"
   },
   "outputs": [
    {
     "data": {
      "image/png": "[encoded data removed]",
      "text/plain": [
       "<Figure size 432x288 with 1 Axes>"
      ]
     },
     "metadata": {
      "tags": []
     },
     "output_type": "display_data"
    }
   ],
   "source": [
    "train_mse = []\n",
    "test_mse = []\n",
    "for M in range(10):\n",
    "    W = train_params(X_train, T_train, M)\n",
    "    Y_train = predict(X_train, W, M)\n",
    "    Y_test = predict(X_test, W, M)\n",
    "    train_mse.append(mean_squared_error(Y_train, T_train))\n",
    "    test_mse.append(mean_squared_error(Y_test, T_test))\n",
    "\n",
    "plt.figure()\n",
    "plt.plot(range(10), train_mse, sns.xkcd_rgb[\"green\"], label=\"Train MSE\")\n",
    "plt.plot(range(10), test_mse, sns.xkcd_rgb[\"red\"], label=\"Test MSE\")\n",
    "plt.xlabel(\"M (model size / complexity)\")\n",
    "plt.ylabel(\"MSE\")\n",
    "plt.legend(bbox_to_anchor=(0, 1), loc='upper left', ncol=1)\n",
    "plt.show()"
   ]
  },
  {
   "cell_type": "code",
   "execution_count": 0,
   "metadata": {
    "colab": {},
    "colab_type": "code",
    "id": "zB0CLVWzdcnh"
   },
   "outputs": [],
   "source": []
  }
 ],
 "metadata": {
  "colab": {
   "name": "Linear Regression - NumPy.ipynb",
   "provenance": [],
   "version": "0.3.2"
  },
  "kernelspec": {
   "display_name": "Python 3",
   "language": "python",
   "name": "python3"
  },
  "language_info": {
   "codemirror_mode": {
    "name": "ipython",
    "version": 3
   },
   "file_extension": ".py",
   "mimetype": "text/x-python",
   "name": "python",
   "nbconvert_exporter": "python",
   "pygments_lexer": "ipython3",
   "version": "3.6.8"
  }
 },
 "nbformat": 4,
 "nbformat_minor": 1
}
