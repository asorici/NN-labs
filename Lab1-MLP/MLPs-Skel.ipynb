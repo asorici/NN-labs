{
 "cells": [
  {
   "cell_type": "markdown",
   "metadata": {
    "colab_type": "text",
    "id": "6KH1L70v-SZm"
   },
   "source": [
    "# Multi-layer perceptrons\n",
    "\n",
    "Tudor Berariu, Andrei Nica, 2018"
   ]
  },
  {
   "cell_type": "code",
   "execution_count": 1,
   "metadata": {
    "colab": {},
    "colab_type": "code",
    "id": "hpLXUDXn-SZn"
   },
   "outputs": [],
   "source": [
    "import numpy as np\n",
    "import torch\n",
    "import torch.nn as nn\n",
    "import torch.nn.functional as F\n",
    "import torch.optim as optim\n",
    "import seaborn as sns\n",
    "import matplotlib.pyplot as plt\n",
    "\n",
    "FIG_SIZE = (12, 8)"
   ]
  },
  {
   "cell_type": "markdown",
   "metadata": {
    "colab_type": "text",
    "id": "iT8ae4_h-SZs"
   },
   "source": [
    "## The same dataset as before"
   ]
  },
  {
   "cell_type": "code",
   "execution_count": 2,
   "metadata": {
    "colab": {},
    "colab_type": "code",
    "id": "MF2ldYIQ-SZu"
   },
   "outputs": [],
   "source": [
    "def two_rings(N, separation=0.1, noise=0.1):\n",
    "    N1 = N // 2\n",
    "    N2 = N - N1\n",
    "    angles = np.random.rand(N, 1) * 2 * np.pi\n",
    "    radius = np.random.rand(N, 1) + np.random.randn(N, 1) * noise\n",
    "    radius *= .5 - separation / 2\n",
    "    radius[N2:] += .5 + separation / 2\n",
    "    X = np.concatenate([radius * np.sin(angles), radius * np.cos(angles)], axis=1)\n",
    "    T = np.concatenate([np.zeros((N1)), np.ones((N2))], axis=0)\n",
    "    p = np.random.permutation(N)\n",
    "    return X[p], T[p]"
   ]
  },
  {
   "cell_type": "code",
   "execution_count": 3,
   "metadata": {
    "colab": {},
    "colab_type": "code",
    "id": "yEbVaLT5-SZ0"
   },
   "outputs": [],
   "source": [
    "def visualize_dataset(X, T, Y=None):\n",
    "    m = [\"x\", \"o\"]  # Indicates true class\n",
    "    col = [\"red\", \"blue\"]  # Indicates prediction\n",
    "    fig = plt.figure(figsize=FIG_SIZE); plt.axis('equal')\n",
    "    if Y is not None:\n",
    "        idx_tp = np.logical_and(T >= .5, Y >= .5) # True positives\n",
    "        idx_fp = np.logical_and(T < .5, Y >= .5) # False positives\n",
    "        idx_fn = np.logical_and(T >= .5, Y < .5) # False negatives\n",
    "        idx_tn = np.logical_and(T < .5, Y < .5) # True negatives\n",
    "        \n",
    "        plt.scatter(X[idx_tp,0], X[idx_tp,1], marker=m[0], c=\"red\", label=\"TP\")\n",
    "        plt.scatter(X[idx_fp,0], X[idx_fp,1], marker=m[1], c=\"red\", label=\"FP\")\n",
    "        plt.scatter(X[idx_fn,0], X[idx_fn,1], marker=m[0], c=\"blue\", label=\"FN\")\n",
    "        plt.scatter(X[idx_tn,0], X[idx_tn,1], marker=m[1], c=\"blue\", label=\"TN\")\n",
    "\n",
    "    else:\n",
    "        idx_pos, idx_neg = (T > .5), (T < .5)\n",
    "        plt.scatter(X[idx_pos,0], X[idx_pos,1], marker=m[0], color=\"blue\", label=\"Pos\")\n",
    "        plt.scatter(X[idx_neg,0], X[idx_neg,1], marker=m[1], color=\"blue\", label=\"Neg\")\n",
    "    \n",
    "    plt.xlabel(\"x\"); plt.ylabel(\"y\")\n",
    "    plt.legend(bbox_to_anchor=(0, 1), loc='upper left', ncol=1)\n",
    "    return fig.axes[0]"
   ]
  },
  {
   "cell_type": "code",
   "execution_count": 4,
   "metadata": {
    "colab": {},
    "colab_type": "code",
    "id": "ASra8gZj-SZ3"
   },
   "outputs": [],
   "source": [
    "def split_dataset(X, T, train=.8):\n",
    "    N = X.size(0)\n",
    "    N_train = int(round(N * train))\n",
    "    N_test = N - N_train\n",
    "\n",
    "    X_train, X_test = X[:N_train,:], X[N_train:,:]\n",
    "    T_train, T_test = T[:N_train], T[N_train:]\n",
    "    return X_train, T_train, X_test, T_test"
   ]
  },
  {
   "cell_type": "code",
   "execution_count": 5,
   "metadata": {
    "colab": {},
    "colab_type": "code",
    "id": "2Kebdbb0-SaH"
   },
   "outputs": [],
   "source": [
    "def plot_evolution(train_acc, test_acc, train_nll, test_nll):\n",
    "    epochs_no = len(train_acc)\n",
    "    fig, (ax1, ax2) = plt.subplots(2,1, figsize=FIG_SIZE);\n",
    "    ax1.plot(range(epochs_no), train_acc, sns.xkcd_rgb[\"green\"], label=\"Train Accuracy\")\n",
    "    ax1.plot(range(epochs_no), test_acc, sns.xkcd_rgb[\"red\"], label=\"Test Accuracy\")\n",
    "    ax1.set_ylabel(\"Accuracy\")\n",
    "    ax1.legend(loc='lower right', ncol=1)\n",
    "\n",
    "    ax2.plot(range(epochs_no), train_nll, sns.xkcd_rgb[\"green\"], label=\"Train NLL\")\n",
    "    ax2.plot(range(epochs_no), test_nll, sns.xkcd_rgb[\"red\"], label=\"Test NLL\")\n",
    "    ax2.set_xlabel(\"iteration\")\n",
    "    ax2.set_ylabel(\"NLL\")\n",
    "    ax2.legend(loc='upper right', ncol=1);\n",
    "    return (ax1, ax2)"
   ]
  },
  {
   "cell_type": "markdown",
   "metadata": {
    "colab_type": "text",
    "id": "FhuJwgGQ-SaV"
   },
   "source": [
    "### Creating a neural network"
   ]
  },
  {
   "cell_type": "code",
   "execution_count": 0,
   "metadata": {
    "colab": {},
    "colab_type": "code",
    "id": "J_-xDui6-SaX"
   },
   "outputs": [],
   "source": [
    "linear1 = nn.Linear(2, 3)\n",
    "linear2 = nn.Linear(3, 2)\n",
    "model = nn.Sequential(linear1, nn.Sigmoid(), linear2)\n",
    "model"
   ]
  },
  {
   "cell_type": "code",
   "execution_count": 0,
   "metadata": {
    "colab": {},
    "colab_type": "code",
    "id": "x9_JXeSD-Sac"
   },
   "outputs": [],
   "source": [
    "X, T = two_rings(1000)\n",
    "\n",
    "X = torch.from_numpy(X).clone().float()\n",
    "T = torch.from_numpy(T).clone().long()\n",
    "\n",
    "X_train, T_train, X_test, T_test = split_dataset(X, T)"
   ]
  },
  {
   "cell_type": "code",
   "execution_count": 0,
   "metadata": {
    "colab": {},
    "colab_type": "code",
    "id": "ZHjIGUit-Sak"
   },
   "outputs": [],
   "source": [
    "EPOCHS_NO = 1000\n",
    "\n",
    "optimizer = optim.Adam(model.parameters(), lr=.01)\n",
    "losses = []\n",
    "\n",
    "train_acc, test_acc, train_nll, test_nll = [], [], [], []\n",
    "\n",
    "for _ in range(EPOCHS_NO):\n",
    "    optimizer.zero_grad()\n",
    "    Y_train = model(X_train)\n",
    "    loss = F.cross_entropy(Y_train, T_train)\n",
    "    loss.backward()\n",
    "    optimizer.step()\n",
    "    \n",
    "    model.eval()\n",
    "    Y_test = model(X_test)\n",
    "    eval_loss = F.cross_entropy(Y_train, T_train)\n",
    "    \n",
    "    _, ind = Y_train.max(dim=1)\n",
    "    train_acc.append((ind == T_train).sum().item() / Y_train.size(0))\n",
    "    _, ind = Y_test.max(dim=1)\n",
    "    test_acc.append((ind == T_test).sum().item() / Y_test.size(0))\n",
    "    train_nll.append(loss.item())\n",
    "    test_nll.append(eval_loss.item())\n",
    "    \n",
    "    \n",
    "plot_evolution(train_acc, test_acc, train_nll, test_nll);"
   ]
  },
  {
   "cell_type": "code",
   "execution_count": 0,
   "metadata": {
    "colab": {},
    "colab_type": "code",
    "id": "pYszGUan-Sao"
   },
   "outputs": [],
   "source": [
    "_, Y = model(X).max(dim=1)\n",
    "\n",
    "visualize_dataset(X.numpy(), T.numpy(), Y=Y.numpy());"
   ]
  },
  {
   "cell_type": "code",
   "execution_count": 0,
   "metadata": {
    "colab": {},
    "colab_type": "code",
    "id": "lHqVZ1g3-Sas"
   },
   "outputs": [],
   "source": [
    "linear1.weight, linear1.bias"
   ]
  },
  {
   "cell_type": "code",
   "execution_count": 0,
   "metadata": {
    "colab": {},
    "colab_type": "code",
    "id": "YWeYswhi-Sax"
   },
   "outputs": [],
   "source": [
    "IDX = 1\n",
    "\n",
    "y = X @ linear1.weight[IDX].detach() + linear1.bias[IDX].detach()\n",
    "visualize_dataset(X.numpy(), T.numpy(), Y=y.numpy()-.5);\n"
   ]
  },
  {
   "cell_type": "code",
   "execution_count": 0,
   "metadata": {
    "colab": {},
    "colab_type": "code",
    "id": "llM1L2qT-Sa0"
   },
   "outputs": [],
   "source": [
    "ax = visualize_dataset(X.numpy(), T.numpy(), Y=Y.numpy());\n",
    "plt.ylim(-2, 2)\n",
    "for i in range(linear1.weight.size(0)):\n",
    "    w = linear1.weight[i].tolist()\n",
    "    b = linear1.bias[i].item()\n",
    "    __x = np.linspace(-2, 2, 100)\n",
    "    __y = (.5 - __x * w[0] - b) / w[1]\n",
    "    plt.plot(__x, __y, c=\"green\", axes=ax)\n",
    "plt.show()"
   ]
  },
  {
   "cell_type": "code",
   "execution_count": 0,
   "metadata": {
    "colab": {},
    "colab_type": "code",
    "id": "mauN0_LT-Sa2"
   },
   "outputs": [],
   "source": []
  }
 ],
 "metadata": {
  "colab": {
   "name": "MLPs-Skel.ipynb",
   "provenance": [],
   "version": "0.3.2"
  },
  "kernelspec": {
   "display_name": "Python 3",
   "language": "python",
   "name": "python3"
  },
  "language_info": {
   "codemirror_mode": {
    "name": "ipython",
    "version": 3
   },
   "file_extension": ".py",
   "mimetype": "text/x-python",
   "name": "python",
   "nbconvert_exporter": "python",
   "pygments_lexer": "ipython3",
   "version": "3.6.8"
  }
 },
 "nbformat": 4,
 "nbformat_minor": 1
}
